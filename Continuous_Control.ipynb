{
 "cells": [
  {
   "cell_type": "markdown",
   "metadata": {},
   "source": [
    "# Continuous Control\n",
    "\n",
    "---\n",
    "\n",
    "In this notebook, you will learn how to use the Unity ML-Agents environment for the second project of the [Deep Reinforcement Learning Nanodegree](https://www.udacity.com/course/deep-reinforcement-learning-nanodegree--nd893) program.\n",
    "\n",
    "### 1. Start the Environment\n",
    "\n",
    "We begin by importing the necessary packages.  If the code cell below returns an error, please revisit the project instructions to double-check that you have installed [Unity ML-Agents](https://github.com/Unity-Technologies/ml-agents/blob/master/docs/Installation.md) and [NumPy](http://www.numpy.org/)."
   ]
  },
  {
   "cell_type": "code",
   "execution_count": 1,
   "metadata": {},
   "outputs": [],
   "source": [
    "from unityagents import UnityEnvironment\n",
    "import numpy as np\n",
    "import matplotlib.pyplot as plt\n",
    "from ddpg_agent import Agent\n",
    "from collections import deque\n",
    "import torch\n"
   ]
  },
  {
   "cell_type": "markdown",
   "metadata": {},
   "source": [
    "Next, we will start the environment!  **_Before running the code cell below_**, change the `file_name` parameter to match the location of the Unity environment that you downloaded.\n",
    "\n",
    "- **Mac**: `\"path/to/Reacher.app\"`\n",
    "- **Windows** (x86): `\"path/to/Reacher_Windows_x86/Reacher.exe\"`\n",
    "- **Windows** (x86_64): `\"path/to/Reacher_Windows_x86_64/Reacher.exe\"`\n",
    "- **Linux** (x86): `\"path/to/Reacher_Linux/Reacher.x86\"`\n",
    "- **Linux** (x86_64): `\"path/to/Reacher_Linux/Reacher.x86_64\"`\n",
    "- **Linux** (x86, headless): `\"path/to/Reacher_Linux_NoVis/Reacher.x86\"`\n",
    "- **Linux** (x86_64, headless): `\"path/to/Reacher_Linux_NoVis/Reacher.x86_64\"`\n",
    "\n",
    "For instance, if you are using a Mac, then you downloaded `Reacher.app`.  If this file is in the same folder as the notebook, then the line below should appear as follows:\n",
    "```\n",
    "env = UnityEnvironment(file_name=\"Reacher.app\")\n",
    "```"
   ]
  },
  {
   "cell_type": "code",
   "execution_count": 2,
   "metadata": {},
   "outputs": [
    {
     "name": "stderr",
     "output_type": "stream",
     "text": [
      "INFO:unityagents:\n",
      "'Academy' started successfully!\n",
      "Unity Academy name: Academy\n",
      "        Number of Brains: 1\n",
      "        Number of External Brains : 1\n",
      "        Lesson number : 0\n",
      "        Reset Parameters :\n",
      "\t\tgoal_speed -> 1.0\n",
      "\t\tgoal_size -> 5.0\n",
      "Unity brain name: ReacherBrain\n",
      "        Number of Visual Observations (per agent): 0\n",
      "        Vector Observation space type: continuous\n",
      "        Vector Observation space size (per agent): 33\n",
      "        Number of stacked Vector Observation: 1\n",
      "        Vector Action space type: continuous\n",
      "        Vector Action space size (per agent): 4\n",
      "        Vector Action descriptions: , , , \n"
     ]
    }
   ],
   "source": [
    "env = UnityEnvironment(file_name=r\"E:\\Udacity\\DeepReinforcementLearning\\deep-reinforcement-learning-master\\deep-reinforcement-learning-master\\p2_continuous-control\\Reacher_Windows_x86_64\\Reacher_Windows_x86_64\\Reacher.exe\")"
   ]
  },
  {
   "cell_type": "markdown",
   "metadata": {},
   "source": [
    "Environments contain **_brains_** which are responsible for deciding the actions of their associated agents. Here we check for the first brain available, and set it as the default brain we will be controlling from Python."
   ]
  },
  {
   "cell_type": "code",
   "execution_count": 3,
   "metadata": {},
   "outputs": [],
   "source": [
    "# get the default brain\n",
    "brain_name = env.brain_names[0]\n",
    "brain = env.brains[brain_name]"
   ]
  },
  {
   "cell_type": "markdown",
   "metadata": {},
   "source": [
    "### 2. Examine the State and Action Spaces\n",
    "\n",
    "In this environment, a double-jointed arm can move to target locations. A reward of `+0.1` is provided for each step that the agent's hand is in the goal location. Thus, the goal of your agent is to maintain its position at the target location for as many time steps as possible.\n",
    "\n",
    "The observation space consists of `33` variables corresponding to position, rotation, velocity, and angular velocities of the arm.  Each action is a vector with four numbers, corresponding to torque applicable to two joints.  Every entry in the action vector must be a number between `-1` and `1`.\n",
    "\n",
    "Run the code cell below to print some information about the environment."
   ]
  },
  {
   "cell_type": "code",
   "execution_count": 4,
   "metadata": {},
   "outputs": [
    {
     "name": "stdout",
     "output_type": "stream",
     "text": [
      "Number of agents: 20\n",
      "Size of each action: 4\n",
      "There are 20 agents. Each observes a state with length: 33\n",
      "The state for the first agent looks like: [ 0.00000000e+00 -4.00000000e+00  0.00000000e+00  1.00000000e+00\n",
      " -0.00000000e+00 -0.00000000e+00 -4.37113883e-08  0.00000000e+00\n",
      "  0.00000000e+00  0.00000000e+00  0.00000000e+00  0.00000000e+00\n",
      "  0.00000000e+00  0.00000000e+00 -1.00000000e+01  0.00000000e+00\n",
      "  1.00000000e+00 -0.00000000e+00 -0.00000000e+00 -4.37113883e-08\n",
      "  0.00000000e+00  0.00000000e+00  0.00000000e+00  0.00000000e+00\n",
      "  0.00000000e+00  0.00000000e+00  5.75471878e+00 -1.00000000e+00\n",
      "  5.55726624e+00  0.00000000e+00  1.00000000e+00  0.00000000e+00\n",
      " -1.68164849e-01]\n"
     ]
    }
   ],
   "source": [
    "# reset the environment\n",
    "env_info = env.reset(train_mode=True)[brain_name]\n",
    "\n",
    "# number of agents\n",
    "num_agents = len(env_info.agents)\n",
    "print('Number of agents:', num_agents)\n",
    "\n",
    "# size of each action\n",
    "action_size = brain.vector_action_space_size\n",
    "print('Size of each action:', action_size)\n",
    "\n",
    "# examine the state space \n",
    "states = env_info.vector_observations\n",
    "state_size = states.shape[1]\n",
    "print('There are {} agents. Each observes a state with length: {}'.format(states.shape[0], state_size))\n",
    "print('The state for the first agent looks like:', states[0])"
   ]
  },
  {
   "cell_type": "markdown",
   "metadata": {},
   "source": [
    "### 3. Take Random Actions in the Environment\n",
    "\n",
    "In the next code cell, you will learn how to use the Python API to control the agent and receive feedback from the environment.\n",
    "\n",
    "Once this cell is executed, you will watch the agent's performance, if it selects an action at random with each time step.  A window should pop up that allows you to observe the agent, as it moves through the environment.  \n",
    "\n",
    "Of course, as part of the project, you'll have to change the code so that the agent is able to use its experience to gradually choose better actions when interacting with the environment!"
   ]
  },
  {
   "cell_type": "code",
   "execution_count": null,
   "metadata": {},
   "outputs": [],
   "source": [
    "           \n",
    "env_info = env.reset(train_mode=False)[brain_name]     # reset the environment    \n",
    "states = env_info.vector_observations                  # get the current state (for each agent)\n",
    "scores = np.zeros(num_agents)                          # initialize the score (for each agent)\n",
    "count = 0\n",
    "while True:\n",
    "    actions = np.random.randn(num_agents, action_size) # select an action (for each agent)\n",
    "    actions = np.clip(actions, -1, 1)                  # all actions between -1 and 1\n",
    "    env_info = env.step(actions)[brain_name]           # send all actions to tne environment\n",
    "    next_states = env_info.vector_observations         # get next state (for each agent)\n",
    "    rewards = env_info.rewards                         # get reward (for each agent)\n",
    "    dones = env_info.local_done                        # see if episode finished\n",
    "    scores += env_info.rewards                         # update the score (for each agent)\n",
    "    states = next_states                               # roll over states to next time step\n",
    "    count = count + 1\n",
    "    if np.any(dones):                                  # exit loop if episode finished\n",
    "        print(count)\n",
    "        break\n",
    "print('Total score (averaged over agents) this episode: {}'.format(np.mean(scores)))"
   ]
  },
  {
   "cell_type": "markdown",
   "metadata": {},
   "source": [
    "### 4. Train the agent\n",
    "\n",
    "In the next code cell, we initialize the agent and train the agent with data we recieve from the the individual agents in the environment. Here we will gradually improve the performance of our agent to choose better actions when interacting with the environment.\n",
    "\n",
    "Once we have a received an average score of 30+ over the last 100 episodes, we break from the training algorithm.\n"
   ]
  },
  {
   "cell_type": "code",
   "execution_count": 5,
   "metadata": {},
   "outputs": [
    {
     "name": "stdout",
     "output_type": "stream",
     "text": [
      "33\n",
      "Actor(\n",
      "  (fc1): Linear(in_features=33, out_features=400, bias=True)\n",
      "  (fc2): Linear(in_features=400, out_features=300, bias=True)\n",
      "  (fc3): Linear(in_features=300, out_features=4, bias=True)\n",
      ")\n",
      "Critic(\n",
      "  (fcs1): Linear(in_features=33, out_features=400, bias=True)\n",
      "  (fc2): Linear(in_features=404, out_features=300, bias=True)\n",
      "  (fc3): Linear(in_features=300, out_features=1, bias=True)\n",
      ")\n",
      "Episode 10\tAverage Score: 0.75\n",
      "scores:  [0.53999999 0.59999999 0.73999998 0.18       2.93999993 0.51999999\n",
      " 0.57999999 0.74999998 1.48999997 1.41999997 0.79999998 0.54999999\n",
      " 1.46999997 2.18999995 0.32999999 2.45999995 1.27999997 0.94999998\n",
      " 2.41999995 1.38999997]\n",
      "Episode 20\tAverage Score: 1.08\n",
      "scores:  [2.72999994 2.25999995 0.97999998 1.13999997 1.89999996 2.04999995\n",
      " 2.51999994 2.17999995 1.77999996 1.24999997 0.84999998 1.92999996\n",
      " 0.92999998 2.76999994 0.88999998 0.32999999 0.49999999 1.24999997\n",
      " 1.06999998 1.01999998]\n",
      "Episode 30\tAverage Score: 2.30\n",
      "scores:  [8.16999982 8.68999981 6.33999986 7.77999983 7.26999984 3.29999993\n",
      " 6.84999985 8.55999981 6.19999986 6.46999986 7.76999983 8.05999982\n",
      " 4.5199999  5.23999988 7.45999983 5.98999987 6.32999986 7.60999983\n",
      " 8.55999981 9.93999978]\n",
      "Episode 40\tAverage Score: 3.79\n",
      "scores:  [ 5.72999987  7.40999983  9.54999979  8.8999998   7.13999984  9.56999979\n",
      "  5.82999987  9.98999978  5.61999987 10.11999977 10.68999976 11.22999975\n",
      "  8.02999982  9.69999978 11.34999975  7.12999984  6.48999985  5.47999988\n",
      "  8.11999982  9.17999979]\n",
      "Episode 50\tAverage Score: 4.97\n",
      "scores:  [10.60999976  9.60999979  6.41999986 10.43999977 13.98999969 14.76999967\n",
      "  9.85999978 10.94999976 12.51999972 14.93999967 15.44999965 11.24999975\n",
      " 16.46999963 11.89999973 13.85999969 17.23999961 12.47999972 13.14999971\n",
      "  9.1299998  15.47999965]\n",
      "Episode 60\tAverage Score: 6.76\n",
      "scores:  [27.69999938 16.45999963 23.33999948 19.04999957 15.97999964 19.54999956\n",
      " 12.65999972 22.4199995   8.14999982 12.88999971  7.41999983 23.49999947\n",
      " 20.56999954 13.4699997  13.5199997  18.40999959 18.38999959 24.23999946\n",
      " 21.70999951 19.51999956]\n",
      "Episode 70\tAverage Score: 9.51\n",
      "scores:  [31.2799993  28.61999936 32.82999927 31.3699993  35.08999922 28.27999937\n",
      " 27.62999938 29.39999934 33.12999926 27.19999939 34.70999922 29.24999935\n",
      " 30.58999932 24.46999945 24.56999945 35.7599992  22.3499995  28.71999936\n",
      " 30.53999932 29.95999933]\n",
      "Episode 80\tAverage Score: 12.62\n",
      "scores:  [33.56999925 26.10999942 37.65999916 36.80999918 36.37999919 34.17999924\n",
      " 36.73999918 36.32999919 37.73999916 32.97999926 38.17999915 33.54999925\n",
      " 36.16999919 38.35999914 36.74999918 39.44999912 37.99999915 39.14999912\n",
      " 37.68999916 36.09999919]\n",
      "Episode 90\tAverage Score: 15.30\n",
      "scores:  [39.24999912 37.47999916 37.32999917 38.01999915 37.59999916 36.23999919\n",
      " 38.13999915 37.85999915 39.18999912 36.99999917 30.03999933 39.33999912\n",
      " 35.9799992  39.53999912 36.76999918 36.27999919 38.69999913 38.07999915\n",
      " 38.46999914 39.08999913]\n",
      "Episode 100\tAverage Score: 17.43\n",
      "scores:  [35.46999921 35.6999992  38.68999914 36.63999918 29.13999935 33.24999926\n",
      " 38.64999914 36.38999919 31.92999929 27.96999937 36.74999918 29.10999935\n",
      " 37.68999916 35.26999921 32.46999927 37.69999916 38.04999915 38.44999914\n",
      " 35.24999921 34.59999923]\n",
      "Episode 110\tAverage Score: 20.99\n",
      "scores:  [36.64999918 36.13999919 33.45999925 32.52999927 39.41999912 35.25999921\n",
      " 26.16999942 38.66999914 39.09999913 35.05999922 35.6499992  38.49999914\n",
      " 32.54999927 35.45999921 36.45999919 37.49999916 38.06999915 36.81999918\n",
      " 33.02999926 26.02999942]\n",
      "Episode 120\tAverage Score: 24.46\n",
      "scores:  [38.64999914 37.79999916 37.49999916 36.78999918 38.03999915 35.26999921\n",
      " 35.9999992  39.35999912 38.36999914 37.02999917 36.50999918 39.46999912\n",
      " 36.26999919 37.06999917 37.55999916 35.5899992  37.78999916 38.52999914\n",
      " 32.00999928 32.53999927]\n",
      "Episode 130\tAverage Score: 27.67\n",
      "scores:  [37.16999917 38.13999915 35.9599992  36.07999919 36.54999918 33.95999924\n",
      " 33.28999926 37.90999915 37.76999916 37.43999916 31.86999929 38.56999914\n",
      " 37.71999916 36.97999917 37.16999917 37.50999916 38.70999913 36.90999917\n",
      " 36.36999919 37.37999916]\n",
      "Episode 139\tAverage Score: 30.21\n",
      "Goal reached in  139  episodes\n"
     ]
    },
    {
     "data": {
      "image/png": "[encoded data removed]",
      "text/plain": [
       "<Figure size 432x288 with 1 Axes>"
      ]
     },
     "metadata": {
      "needs_background": "light"
     },
     "output_type": "display_data"
    }
   ],
   "source": [
    "\n",
    "agent = Agent(state_size, action_size, random_seed=0)\n",
    "print(agent.actor_local)\n",
    "print(agent.critic_local)\n",
    "def ddpg(n_episodes=200, max_t=1000, print_every=10):\n",
    "    scores_deque = deque(maxlen=100)\n",
    "    scores_n = []\n",
    "    for i_episode in range(1, n_episodes+1):\n",
    "        env_info = env.reset(train_mode=True)[brain_name]\n",
    "        states = env_info.vector_observations\n",
    "        agent.reset()\n",
    "        scores = np.zeros(20)\n",
    "        for t in range(max_t):\n",
    "            actions = agent.act(states)\n",
    "            env_info = env.step(actions)[brain_name]\n",
    "            next_states = env_info.vector_observations         # get next state (for each agent)\n",
    "            rewards = env_info.rewards                         # get reward (for each agent)\n",
    "            dones = env_info.local_done                        # see if episode finished\n",
    "            agent.step(states, actions, rewards,  next_states, dones,t)\n",
    "            states = next_states \n",
    "            scores = scores + rewards                        # update the score (for each agent)\n",
    "\n",
    "            if np.any(dones):\n",
    "                break \n",
    "        scores_deque.append(np.mean(scores))\n",
    "        scores_n.append(np.mean(scores))\n",
    "        print('\\rEpisode {}\\tAverage Score: {:.2f}'.format(i_episode, np.mean(scores_deque)), end=\"\")\n",
    "        torch.save(agent.actor_local.state_dict(), 'checkpoint_actor.pth')\n",
    "        torch.save(agent.critic_local.state_dict(), 'checkpoint_critic.pth')\n",
    "        if(np.mean(scores_deque) > 30.0):\n",
    "            print('\\rEpisode {}\\tAverage Score: {:.2f}'.format(i_episode, np.mean(scores_deque)))\n",
    "            print(\"Goal reached in \", i_episode, \" episodes\")\n",
    "            break\n",
    "        if i_episode % print_every == 0:\n",
    "            print('\\rEpisode {}\\tAverage Score: {:.2f}'.format(i_episode, np.mean(scores_deque)))\n",
    "            \n",
    "    return scores_n\n",
    "\n",
    "scores = ddpg()\n",
    "\n",
    "fig = plt.figure()\n",
    "ax = fig.add_subplot(111)\n",
    "plt.plot(np.arange(1, len(scores)+1), scores)\n",
    "plt.ylabel('Score')\n",
    "plt.xlabel('Episode #')\n",
    "plt.show()"
   ]
  },
  {
   "cell_type": "markdown",
   "metadata": {},
   "source": [
    "### 5. Take Actions based on trained model\n",
    "\n",
    "In the next code cell, we will visualize the performance of our algorithm after we have completed the training.  "
   ]
  },
  {
   "cell_type": "code",
   "execution_count": 9,
   "metadata": {},
   "outputs": [
    {
     "name": "stdout",
     "output_type": "stream",
     "text": [
      "1001\n",
      "Total score (averaged over agents) this episode: 39.1269991254434\n"
     ]
    }
   ],
   "source": [
    "agent = Agent(s_size, action_size, random_seed=0)\n",
    "# checkpoint = torch.load('checkpoint_actor.pth')\n",
    "agent.actor_local.load_state_dict(torch.load('checkpoint_actor.pth'))\n",
    "agent.critic_local.load_state_dict(torch.load('checkpoint_critic.pth')) \n",
    "agent.actor_local.eval()\n",
    "agent.critic_local.eval()\n",
    "env_info = env.reset(train_mode=False)[brain_name]     # reset the environment    \n",
    "states = env_info.vector_observations                  # get the current state (for each agent)\n",
    "scores = np.zeros(num_agents)                          # initialize the score (for each agent)\n",
    "count = 0\n",
    "while True:\n",
    "    actions = agent.act(states, False) # select an action (for each agent)\n",
    "                  # all actions between -1 and 1\n",
    "    env_info = env.step(actions)[brain_name]           # send all actions to tne environment\n",
    "    next_states = env_info.vector_observations         # get next state (for each agent)\n",
    "    rewards = env_info.rewards                         # get reward (for each agent)\n",
    "    dones = env_info.local_done                        # see if episode finished\n",
    "    scores += env_info.rewards                         # update the score (for each agent)\n",
    "    states = next_states                               # roll over states to next time step\n",
    "    count = count + 1\n",
    "    if np.any(dones):                                  # exit loop if episode finished\n",
    "        print(count)\n",
    "        break\n",
    "print('Total score (averaged over agents) this episode: {}'.format(np.mean(scores)))"
   ]
  },
  {
   "cell_type": "code",
   "execution_count": 10,
   "metadata": {},
   "outputs": [],
   "source": [
    "env.close()"
   ]
  }
 ],
 "metadata": {
  "kernelspec": {
   "display_name": "Python 3",
   "language": "python",
   "name": "python3"
  },
  "language_info": {
   "codemirror_mode": {
    "name": "ipython",
    "version": 3
   },
   "file_extension": ".py",
   "mimetype": "text/x-python",
   "name": "python",
   "nbconvert_exporter": "python",
   "pygments_lexer": "ipython3",
   "version": "3.7.4"
  }
 },
 "nbformat": 4,
 "nbformat_minor": 2
}
